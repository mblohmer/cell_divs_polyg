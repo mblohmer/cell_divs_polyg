{
 "cells": [
  {
   "cell_type": "markdown",
   "id": "cross-oliver",
   "metadata": {},
   "source": [
    "# Sample Processing (Step 0)"
   ]
  },
  {
   "cell_type": "code",
   "execution_count": 66,
   "id": "sapphire-cardiff",
   "metadata": {
    "scrolled": true,
    "vscode": {
     "languageId": "r"
    }
   },
   "outputs": [],
   "source": [
    "# loading needed libraries\n",
    "library(tidytree)\n",
    "library(ggpubr)\n",
    "library(pheatmap)\n",
    "library(wesanderson)\n",
    "library(gridExtra)\n",
    "library(readxl)\n",
    "library(parallel)\n",
    "source(\"func.R\")\n",
    "set.seed(36)"
   ]
  },
  {
   "cell_type": "markdown",
   "id": "a33cb585",
   "metadata": {},
   "source": [
    "# Lunger cancer samples"
   ]
  },
  {
   "cell_type": "code",
   "execution_count": 2,
   "id": "ranging-travel",
   "metadata": {
    "vscode": {
     "languageId": "r"
    }
   },
   "outputs": [],
   "source": [
    "# directroy of all results\n",
    "dir_list <-  list.files(\"../data/multiple_lung_cancers/\",\n",
    "                        pattern= \"_R$\", full.names = TRUE)"
   ]
  },
  {
   "cell_type": "markdown",
   "id": "advanced-detector",
   "metadata": {},
   "source": [
    "## Creating Marker Length Table"
   ]
  },
  {
   "cell_type": "code",
   "execution_count": 108,
   "id": "ahead-version",
   "metadata": {
    "scrolled": true,
    "vscode": {
     "languageId": "r"
    }
   },
   "outputs": [
    {
     "name": "stderr",
     "output_type": "stream",
     "text": [
      "TM10\n",
      "\n",
      "TM11\n",
      "\n",
      "TM12\n",
      "\n",
      "TM13\n",
      "\n",
      "TM14\n",
      "\n",
      "TM15\n",
      "\n",
      "TM16\n",
      "\n"
     ]
    }
   ],
   "source": [
    "# tumor P2 in patient TM32 was sampled twice.\n",
    "# For the rest of analysis, tumor P2a will be considered as the representative samples\n",
    "l <- lapply(dir_list, get_markerlengths)\n",
    "markerlengths_tm32b <- bind_rows(l)\n",
    "markerlengths  <- markerlengths_tm32b  %>% \n",
    "    mutate(sample=ifelse(sample==\"TM32P2a\", \"TM32P2\", sample))  %>% \n",
    "    filter(sample!=\"TM32P2b\")"
   ]
  },
  {
   "cell_type": "code",
   "execution_count": null,
   "id": "large-revolution",
   "metadata": {
    "vscode": {
     "languageId": "r"
    }
   },
   "outputs": [],
   "source": [
    "# saving mean length table\n",
    "write_tsv(markerlengths, \"../results/lung_markerlengths.tsv\")\n",
    "write_tsv(markerlengths_tm32b, \"../results/lung_markerlengths_tm32b.tsv\")"
   ]
  },
  {
   "cell_type": "code",
   "execution_count": 67,
   "id": "clear-natural",
   "metadata": {
    "vscode": {
     "languageId": "r"
    }
   },
   "outputs": [
    {
     "name": "stderr",
     "output_type": "stream",
     "text": [
      "\u001b[1mRows: \u001b[22m\u001b[34m2659\u001b[39m \u001b[1mColumns: \u001b[22m\u001b[34m4\u001b[39m\n",
      "\u001b[36m--\u001b[39m \u001b[1mColumn specification\u001b[22m \u001b[36m--------------------------------------------------------\u001b[39m\n",
      "\u001b[1mDelimiter:\u001b[22m \"\\t\"\n",
      "\u001b[31mchr\u001b[39m (3): sample, marker, subject\n",
      "\u001b[32mdbl\u001b[39m (1): length\n",
      "\n",
      "\u001b[36mi\u001b[39m Use `spec()` to retrieve the full column specification for this data.\n",
      "\u001b[36mi\u001b[39m Specify the column types or set `show_col_types = FALSE` to quiet this message.\n",
      "\u001b[1mRows: \u001b[22m\u001b[34m2684\u001b[39m \u001b[1mColumns: \u001b[22m\u001b[34m4\u001b[39m\n",
      "\u001b[36m--\u001b[39m \u001b[1mColumn specification\u001b[22m \u001b[36m--------------------------------------------------------\u001b[39m\n",
      "\u001b[1mDelimiter:\u001b[22m \"\\t\"\n",
      "\u001b[31mchr\u001b[39m (3): sample, marker, subject\n",
      "\u001b[32mdbl\u001b[39m (1): length\n",
      "\n",
      "\u001b[36mi\u001b[39m Use `spec()` to retrieve the full column specification for this data.\n",
      "\u001b[36mi\u001b[39m Specify the column types or set `show_col_types = FALSE` to quiet this message.\n"
     ]
    }
   ],
   "source": [
    "# reading in markerlengths \n",
    "markerlengths  <- read_tsv(\"../results/lung_markerlengths.tsv\")\n",
    "markerlengths_tm32b <- read_tsv(\"../results/lung_markerlengths_tm32b.tsv\")"
   ]
  },
  {
   "attachments": {},
   "cell_type": "markdown",
   "id": "isolated-declaration",
   "metadata": {},
   "source": [
    "## Creating phylogenetic trees"
   ]
  },
  {
   "cell_type": "markdown",
   "id": "accompanied-narrow",
   "metadata": {},
   "source": [
    "Getting all possible pairwise combinations for each sample"
   ]
  },
  {
   "cell_type": "code",
   "execution_count": 68,
   "id": "eight-september",
   "metadata": {
    "vscode": {
     "languageId": "r"
    }
   },
   "outputs": [],
   "source": [
    "# find samples\n",
    "samples <- markerlengths_tm32b$sample %>% unique\n",
    "\n",
    "combos_wide <- combn(samples, m= 2) %>% as.data.frame()\n",
    "\n",
    "## make combo table longer\n",
    "combos_long <- data.frame(a=as.character(combos_wide[1,]), b=as.character(combos_wide[2,]))\n",
    "\n",
    "## only use combintions from the same subject\n",
    "combos <- combos_long %>% \n",
    "    mutate(sample_a=str_remove(a, \"[N|P][:alnum:]+\"),\n",
    "          sample_b=str_remove(b, \"[N|P][:alnum:]+\"))  %>% \n",
    "    filter(sample_a==sample_b) %>% \n",
    "    dplyr::select(a, b)  \n"
   ]
  },
  {
   "cell_type": "code",
   "execution_count": 69,
   "id": "97973847",
   "metadata": {
    "vscode": {
     "languageId": "r"
    }
   },
   "outputs": [],
   "source": [
    "# finding combination of samples to bootstrap\n",
    "\n",
    "get_boot_combos <- function(markerlengths, subject_i) {\n",
    "      # find samples\n",
    "      samples <- markerlengths$sample %>%\n",
    "            unique() %>%\n",
    "            str_subset(paste0(subject_i, \"[P|N]\"))\n",
    "\n",
    "      combos_wide <- combn(samples, m = 2) %>% as.data.frame()\n",
    "\n",
    "      ## make combo table longer\n",
    "      combos_long <- data.frame(a = as.character(combos_wide[1, ]), b = as.character(combos_wide[2, ]))\n",
    "}\n"
   ]
  },
  {
   "cell_type": "code",
   "execution_count": 70,
   "id": "30bbbbe4",
   "metadata": {
    "vscode": {
     "languageId": "r"
    }
   },
   "outputs": [],
   "source": [
    "# function to the find the MRCA of a specific marker combination\n",
    "\n",
    "boot_mrca <- function(subject_i, subject_markers, n_markers, boot_combos) {\n",
    "\n",
    "        marker_table <- subject_markers %>%\n",
    "            slice_sample(n = n_markers, replace = TRUE) %>%\n",
    "            unnest(data) %>%\n",
    "            select(subject, sample, marker, length) %>%\n",
    "            ungroup()\n",
    "\n",
    "        l1_comb_boot <- lapply(1:nrow(boot_combos), get_l1_r_for_combination, boot_combos, marker_table)\n",
    "\n",
    "        tbl_boot <- bind_rows(l1_comb_boot) %>%\n",
    "            mutate(divs = l1 / 9.43139014888478e-05) %>%\n",
    "            select(a, b, divs)\n",
    "\n",
    "        tree <- plot_tree(subject_i, tbl_boot)\n",
    "        tumors <- str_subset(tree$tip.label, \"N\", negate = TRUE)\n",
    "        \n",
    "        findMRCA(tree, tumors, type = \"height\")\n",
    "        \n",
    "    }"
   ]
  },
  {
   "cell_type": "code",
   "execution_count": 71,
   "id": "cc4817c0",
   "metadata": {
    "vscode": {
     "languageId": "r"
    }
   },
   "outputs": [],
   "source": [
    "# function to plot the tree with a confidence interval around the MRCA \n",
    "plot_ci_tree <- function(subject_i, divs_tbl, mrca_boot, markerlengths, l1_tree) {\n",
    "\n",
    "tree <- plot_tree(subject_i, divs_tbl)\n",
    "\n",
    "tumors <- str_subset(tree$tip.label, \"N\", negate = TRUE)\n",
    "\n",
    "# finding MRCA node and height of the tree with all markers\n",
    "mrca_node <- findMRCA(tree, tumors)\n",
    "mrca_height <- findMRCA(tree, tumors, type = \"height\")\n",
    "\n",
    "# plotting tree\n",
    "t <- ggtree(tree, size=2)\n",
    "\n",
    "# annotating 5th and 95th percentile for confidence interval\n",
    "t$data <- t$data %>%\n",
    "  mutate(\n",
    "    ci_05 = ifelse(node == mrca_node, quantile(mrca_boot, 0.025), NA),\n",
    "    ci_95 = ifelse(node == mrca_node, quantile(mrca_boot, 0.975), NA),\n",
    "    CI = \"95% CI\", label=str_remove_all(label, subject_i)\n",
    "  )\n",
    "\n",
    "# finding maximum x value (could also be the end of the CI) to expand coord system\n",
    "    max_x <- max(t$data$x)\n",
    "    max_ci <- max(t$data$ci_95, na.rm=TRUE)\n",
    "    abs_max <- pmax(max_x, max_ci)\n",
    "    max_y <- max(t$data$y) * 1.2\n",
    "\n",
    "t_divs <- t + suppressMessages(geom_segment(aes(x=ci_05, y=y, xend=ci_95, yend=y, color=CI),  size=10,  alpha=0.2,\n",
    "                 show.legend = TRUE)) +\n",
    "    geom_point2(data= .  %>%  filter(str_detect(label, \"P\")), \n",
    "                aes(x, y), size=16, color= wes_palette(\"Zissou1\")[1]) +\n",
    "    geom_point2(data= .  %>%  filter(node==mrca_node), \n",
    "                size=16, color=wes_palette(\"Zissou1\")[5]) +\n",
    "    geom_tiplab(size = 12, color = \"black\", hjust = -0.5) +\n",
    "      scale_colour_manual(\n",
    "        na.translate = F, name = \"CI\", guide = guide_legend(override.aes = list(shape = c(32))),\n",
    "        values = c(wes_palette(\"Zissou1\")[5])\n",
    "      ) +\n",
    "   annotate(\"point\", 0, max_y, size=16, color=wes_palette(\"Zissou1\")[5]) +\n",
    "   annotate(\"text\", 0.05*abs_max, hjust=0, max_y, size=10, color='black', \n",
    "                  label=paste0(\"Tumor MRCA at division \",round(mrca_height))) + \n",
    "    labs(title = paste0(subject_i, \" cell division tree\"), x = \"Divisions from zygote\") +\n",
    "      theme(\n",
    "        axis.line.x = element_line(size = 1.5),\n",
    "        axis.title.x = element_text(size = 35, color = \"black\"),\n",
    "        axis.text.x = element_text(size = 35, color = \"black\"),\n",
    "        axis.ticks.x = element_line(color = \"black\", size = 1),\n",
    "        axis.ticks.length.x = unit(0.2, \"cm\"), plot.title = element_text(size = 35),\n",
    "        text = element_text(size = 18, color = \"black\"), axis.line = element_line(color = \"black\", size = 1),\n",
    "        legend.position = c(0.85, 0.2), legend.title = element_blank(), legend.text = element_text(size = 30)\n",
    "      ) +\n",
    "    xlim(0, abs_max*1.2) \n",
    "\n",
    "ggsave(paste0(\"../plots/Supplementary_figures/lung_trees/\", subject_i, \"_nj_tree.pdf\"),\n",
    "  t_divs,\n",
    "  height = 7,\n",
    "  width = 26\n",
    ")\n",
    "\n",
    "# create heatmap\n",
    "  heatmap  <-  create_heatmap(subject_i, markerlengths)\n",
    "  t_divs_hm <- t_divs + ggtitle(subject_i)\n",
    "  pdf(paste0(\"../plots/Supplementary_figures/lung_trees_hm/\", subject_i, \"_tree_hm.pdf\"), width=14*2, height=12)\n",
    "  grid.arrange(t_divs_hm, heatmap[[4]], widths = 1:2, vp=grid::viewport(width=1, height=0.7))\n",
    "  dev.off()\n",
    "\n",
    "# save tree with untransformed l1 distance:\n",
    "t$data  <- t$data %>%\n",
    "  mutate(across(c(branch.length, branch, x, ci_05, ci_95), ~ .x*9.43139014888478e-05))\n",
    "\n",
    "# finding maximum x value (could also be the end of the CI) to expand coord system\n",
    "    max_x <- max(t$data$x)\n",
    "    max_ci <- max(t$data$ci_95, na.rm=TRUE)\n",
    "    abs_max <- pmax(max_x, max_ci)\n",
    "    max_y <- max(t$data$y) * 1.2\n",
    "    mrca_height <- mrca_height*9.43139014888478e-05\n",
    "\n",
    "# saving l1 tree only if needed\n",
    "if (l1_tree) { plot(t + suppressMessages(geom_segment(aes(x=ci_05, y=y, xend=ci_95, yend=y, color=CI),  size=10,  alpha=0.2,\n",
    "                 show.legend = TRUE)) +\n",
    "    geom_point2(data= .  %>%  filter(str_detect(label, \"P\")), \n",
    "                aes(x, y), size=16, color= wes_palette(\"Zissou1\")[1]) +\n",
    "    geom_point2(data= .  %>%  filter(node==mrca_node), \n",
    "                size=16, color=wes_palette(\"Zissou1\")[5]) +\n",
    "    geom_tiplab(size = 12, color = \"black\", hjust = -0.4) +\n",
    "      scale_colour_manual(\n",
    "        na.translate = F, name = \"CI\", guide = guide_legend(override.aes = list(shape = c(32))),\n",
    "        values = c(wes_palette(\"Zissou1\")[5])\n",
    "      ) +\n",
    "   annotate(\"point\", 0, max_y, size=16, color=wes_palette(\"Zissou1\")[5]) +\n",
    "   annotate(\"text\", 0.03*abs_max, hjust=0, max_y, size=10, color='black', \n",
    "                  label=paste0(\"Tumor MRCA at L1: \",round(mrca_height, digits=2))) + \n",
    "    labs(title = paste0(subject_i, \" L1 distance tree\"), x = \"L1 from zygote\") +\n",
    "      theme(\n",
    "        axis.line.x = element_line(size = 1.5),\n",
    "        axis.title.x = element_text(size = 35, color = \"black\"),\n",
    "        axis.text.x = element_text(size = 35, color = \"black\"),\n",
    "        axis.ticks.x = element_line(color = \"black\", size = 1),\n",
    "        axis.ticks.length.x = unit(0.2, \"cm\"), plot.title = element_text(size = 35),\n",
    "        text = element_text(size = 18, color = \"black\"), axis.line = element_line(color = \"black\", size = 1),\n",
    "        legend.position = c(0.85, 0.2), legend.title = element_blank(), legend.text = element_text(size = 30)\n",
    "      ) +\n",
    "    xlim(0, abs_max*1.2)) }\n",
    "\n",
    "return(tree)\n",
    "}"
   ]
  },
  {
   "cell_type": "code",
   "execution_count": 72,
   "id": "e60119db",
   "metadata": {
    "vscode": {
     "languageId": "r"
    }
   },
   "outputs": [],
   "source": [
    "# function to find the position of the MRCA of every tumor pair on the tree constructed with all tumors\n",
    "get_mrca_heights <- function(tree, subject_i) {\n",
    "\n",
    "p1_p2 <- fastHeight(tree, str_subset(tree$tip.label, \"P1\"), str_subset(tree$tip.label, \"P2\")[1])\n",
    "\n",
    "\n",
    "if (any(str_detect(tree$tip.label, \"P3\"))) {\n",
    "    \n",
    "    p1_p3 <- fastHeight(tree, str_subset(tree$tip.label, \"P1\"), str_subset(tree$tip.label, \"P3\"))\n",
    "    \n",
    "    p2_p3 <- fastHeight(tree, str_subset(tree$tip.label, \"P2\"), str_subset(tree$tip.label, \"P3\"))\n",
    "    \n",
    "    all <- min(p1_p2, p1_p3, p2_p3)    \n",
    "\n",
    "} else {\n",
    "   p1_p3 <- NA \n",
    "   p2_p3 <- NA\n",
    "   all <- p1_p2\n",
    "}    \n",
    "\n",
    "# mrca of all tumors \n",
    "\n",
    "l  <- list(subject=subject_i, all_mrca=all, p1_p2_mrca=p1_p2, p1_p3_mrca=p1_p3, p2_p3_mrca=p2_p3)    \n",
    "return(l)\n",
    "    \n",
    "}"
   ]
  },
  {
   "cell_type": "code",
   "execution_count": 73,
   "id": "91d5bc6a",
   "metadata": {
    "vscode": {
     "languageId": "r"
    }
   },
   "outputs": [],
   "source": [
    "bootstrap_mrca <- function(subject_i, markerlengths, divs_tbl, l1_tree) {\n",
    "    \n",
    "    # nesting markers\n",
    "    subject_markers <- markerlengths %>%\n",
    "        filter(subject == subject_i) %>% \n",
    "        group_by(subject, marker) %>% \n",
    "        nest %>% \n",
    "        ungroup \n",
    "\n",
    "    # getting combos to bootstrap through\n",
    "    boot_combos <- get_boot_combos(markerlengths, subject_i)\n",
    "\n",
    "    n_markers <- length(unique(subject_markers$marker))\n",
    "\n",
    "    mrca_boot <- replicate(1000, boot_mrca(subject_i, subject_markers, n_markers, boot_combos))\n",
    "\n",
    "    subject_tbl <- divs_tbl %>%\n",
    "        filter(str_detect(a, paste0(subject_i, \"[P|N]\")))\n",
    "\n",
    "    tree <- plot_ci_tree(subject_i, subject_tbl, mrca_boot, markerlengths_tm32b, l1_tree)\n",
    "\n",
    "    l <- get_mrca_heights(tree, subject_i)\n",
    "\n",
    "    return(l)\n",
    "}"
   ]
  },
  {
   "cell_type": "code",
   "execution_count": 74,
   "id": "closed-companion",
   "metadata": {
    "scrolled": true,
    "vscode": {
     "languageId": "r"
    }
   },
   "outputs": [],
   "source": [
    "# create a table for the L1 of non-bootstrapped marker lengths \n",
    "non_boot_l1 <- lapply(1:nrow(combos), get_l1_r_for_combination, combos, markerlengths_tm32b)\n",
    "non_boot_l1 <- rbindlist(non_boot_l1)"
   ]
  },
  {
   "cell_type": "code",
   "execution_count": 75,
   "id": "f591b983",
   "metadata": {
    "vscode": {
     "languageId": "r"
    }
   },
   "outputs": [],
   "source": [
    "subjects <- unique(markerlengths_tm32b$subject)\n",
    "lung_l1_tbl <- non_boot_l1 %>%\n",
    "    mutate(divs = l1 / 9.43139014888478e-05)\n",
    "mrca_list <- mclapply(subjects, bootstrap_mrca, markerlengths_tm32b, lung_l1_tbl, FALSE)"
   ]
  },
  {
   "attachments": {},
   "cell_type": "markdown",
   "id": "5db31268",
   "metadata": {},
   "source": [
    "Saving L1 tree of case TM32 for Figure1:"
   ]
  },
  {
   "cell_type": "code",
   "execution_count": null,
   "id": "43b4f1e0",
   "metadata": {
    "vscode": {
     "languageId": "r"
    }
   },
   "outputs": [
    {
     "name": "stderr",
     "output_type": "stream",
     "text": [
      "Warning message:\n",
      "\"\u001b[1m\u001b[22mRemoved 6 rows containing missing values (`geom_segment()`).\"\n",
      "Warning message:\n",
      "\"\u001b[1m\u001b[22mRemoved 6 rows containing missing values (`geom_segment()`).\"\n",
      "Warning message:\n",
      "\"\u001b[1m\u001b[22mRemoved 6 rows containing missing values (`geom_segment()`).\"\n"
     ]
    },
    {
     "data": {
      "text/html": [
       "<ol>\n",
       "\t<li><dl>\n",
       "\t<dt>$subject</dt>\n",
       "\t\t<dd>'TM32'</dd>\n",
       "\t<dt>$all_mrca</dt>\n",
       "\t\t<dd>401.233184584014</dd>\n",
       "\t<dt>$p1_p2_mrca</dt>\n",
       "\t\t<dd>401.233184584014</dd>\n",
       "\t<dt>$p1_p3_mrca</dt>\n",
       "\t\t<dd>&lt;NA&gt;</dd>\n",
       "\t<dt>$p2_p3_mrca</dt>\n",
       "\t\t<dd>&lt;NA&gt;</dd>\n",
       "</dl>\n",
       "</li>\n",
       "</ol>\n"
      ],
      "text/latex": [
       "\\begin{enumerate}\n",
       "\\item \\begin{description}\n",
       "\\item[\\$subject] 'TM32'\n",
       "\\item[\\$all\\_mrca] 401.233184584014\n",
       "\\item[\\$p1\\_p2\\_mrca] 401.233184584014\n",
       "\\item[\\$p1\\_p3\\_mrca] <NA>\n",
       "\\item[\\$p2\\_p3\\_mrca] <NA>\n",
       "\\end{description}\n",
       "\n",
       "\\end{enumerate}\n"
      ],
      "text/markdown": [
       "1. $subject\n",
       ":   'TM32'\n",
       "$all_mrca\n",
       ":   401.233184584014\n",
       "$p1_p2_mrca\n",
       ":   401.233184584014\n",
       "$p1_p3_mrca\n",
       ":   &lt;NA&gt;\n",
       "$p2_p3_mrca\n",
       ":   &lt;NA&gt;\n",
       "\n",
       "\n",
       "\n",
       "\n",
       "\n"
      ],
      "text/plain": [
       "[[1]]\n",
       "[[1]]$subject\n",
       "[1] \"TM32\"\n",
       "\n",
       "[[1]]$all_mrca\n",
       "[1] 401.2332\n",
       "\n",
       "[[1]]$p1_p2_mrca\n",
       "[1] 401.2332\n",
       "\n",
       "[[1]]$p1_p3_mrca\n",
       "[1] NA\n",
       "\n",
       "[[1]]$p2_p3_mrca\n",
       "[1] NA\n",
       "\n"
      ]
     },
     "metadata": {},
     "output_type": "display_data"
    },
    {
     "name": "stderr",
     "output_type": "stream",
     "text": [
      "Warning message:\n",
      "\"\u001b[1m\u001b[22mRemoved 6 rows containing missing values (`geom_segment()`).\"\n"
     ]
    },
    {
     "data": {
      "image/png": "[encoded data removed]",
      "text/plain": [
       "plot without title"
      ]
     },
     "metadata": {
      "image/png": {
       "height": 420,
       "width": 420
      }
     },
     "output_type": "display_data"
    }
   ],
   "source": [
    "lapply(\"TM32\", bootstrap_mrca, markerlengths_tm32b, lung_l1_tbl, TRUE)\n",
    "ggsave(\"../plots/Figure1/tm23_l1_tree.pdf\",\n",
    "  height = 7,\n",
    "  width = 26\n",
    ")"
   ]
  },
  {
   "cell_type": "markdown",
   "metadata": {},
   "source": [
    "Numbers for Figure 1 text:"
   ]
  },
  {
   "cell_type": "code",
   "execution_count": null,
   "metadata": {
    "vscode": {
     "languageId": "r"
    }
   },
   "outputs": [],
   "source": [
    "cell_divs_tbl <- lung_l1_tbl\n",
    "\n",
    "\n",
    "subject_i <- \"TM32\"\n",
    "\n",
    " subject_i <- paste0(subject_i, \"(?=[:alpha:])\")\n",
    "    sample_tbl <- cell_divs_tbl %>% filter(str_detect(a, subject_i), \n",
    "\n",
    "        str_detect(b, subject_i)) %>% select(a, b, l1)\n",
    "    root_sample <- str_subset(unique(c(sample_tbl$a, sample_tbl$b)), \n",
    "        \"N\")[1]\n",
    "\n",
    "    sample_tbl <- sample_tbl %>% filter((a == root_sample) | \n",
    "        str_detect(a, \"N\", negate = TRUE), (b == root_sample) | \n",
    "        str_detect(b, \"N\", negate = TRUE))\n",
    "\n",
    "    zero_tbl <- tibble(a = unique(sample_tbl$a), b = unique(sample_tbl$a), \n",
    "        l1 = 0) %>% bind_rows(tibble(a = unique(sample_tbl$b), \n",
    "        b = unique(sample_tbl$b), l1 = 0)) %>% distinct()\n",
    "\n",
    "    dist_mat_int <- sample_tbl %>% bind_rows(zero_tbl) %>% pivot_wider(names_from = a, \n",
    "        values_from = l1)\n",
    "\n",
    "    dist_mat <- dist_mat_int[match(colnames(dist_mat_int), dist_mat_int$b) %>% \n",
    "        na.omit, ] %>% column_to_rownames(\"b\")\n",
    "\n",
    "    tree <- nj(as.dist(dist_mat))\n",
    "\n",
    "    tm32_tree <- phytools::reroot(tree, node.number = which(tree$tip.label == \n",
    "        root_sample))\n",
    "\n",
    "    tm32_ggtree <- ggtree(tm32_tree)"
   ]
  },
  {
   "cell_type": "code",
   "execution_count": null,
   "metadata": {
    "vscode": {
     "languageId": "r"
    }
   },
   "outputs": [
    {
     "data": {
      "image/png": "[encoded data removed]",
      "text/plain": [
       "plot without title"
      ]
     },
     "metadata": {
      "image/png": {
       "height": 420,
       "width": 420
      }
     },
     "output_type": "display_data"
    }
   ],
   "source": [
    "tm32_ggtree +\n",
    "    geom_tiplab(aes(label=label)) +\n",
    "    geom_nodelab(aes(label=node))"
   ]
  },
  {
   "cell_type": "code",
   "execution_count": null,
   "metadata": {
    "vscode": {
     "languageId": "r"
    }
   },
   "outputs": [
    {
     "data": {
      "text/html": [
       "<table class=\"dataframe\">\n",
       "<caption>A tbl_tree: 7 x 9</caption>\n",
       "<thead>\n",
       "\t<tr><th scope=col>parent</th><th scope=col>node</th><th scope=col>branch.length</th><th scope=col>label</th><th scope=col>isTip</th><th scope=col>x</th><th scope=col>y</th><th scope=col>branch</th><th scope=col>angle</th></tr>\n",
       "\t<tr><th scope=col>&lt;int&gt;</th><th scope=col>&lt;int&gt;</th><th scope=col>&lt;dbl&gt;</th><th scope=col>&lt;chr&gt;</th><th scope=col>&lt;lgl&gt;</th><th scope=col>&lt;dbl&gt;</th><th scope=col>&lt;dbl&gt;</th><th scope=col>&lt;dbl&gt;</th><th scope=col>&lt;dbl&gt;</th></tr>\n",
       "</thead>\n",
       "<tbody>\n",
       "\t<tr><td>5</td><td>1</td><td>0.00000000</td><td>TM32N1 </td><td> TRUE</td><td>0.00000000</td><td>1.000</td><td>0.00000000</td><td> 90.00</td></tr>\n",
       "\t<tr><td>7</td><td>2</td><td>0.03011097</td><td>TM32P1 </td><td> TRUE</td><td>0.06795284</td><td>2.000</td><td>0.05289735</td><td>180.00</td></tr>\n",
       "\t<tr><td>6</td><td>3</td><td>0.03281486</td><td>TM32P2a</td><td> TRUE</td><td>0.10486442</td><td>4.000</td><td>0.08845699</td><td>360.00</td></tr>\n",
       "\t<tr><td>6</td><td>4</td><td>0.05541156</td><td>TM32P2b</td><td> TRUE</td><td>0.12746112</td><td>3.000</td><td>0.09975534</td><td>270.00</td></tr>\n",
       "\t<tr><td>5</td><td>5</td><td>0.00000000</td><td>NA     </td><td>FALSE</td><td>0.00000000</td><td>1.875</td><td>0.00000000</td><td>168.75</td></tr>\n",
       "\t<tr><td>7</td><td>6</td><td>0.03420769</td><td>NA     </td><td>FALSE</td><td>0.07204956</td><td>3.500</td><td>0.05494571</td><td>315.00</td></tr>\n",
       "\t<tr><td>5</td><td>7</td><td>0.03784187</td><td>NA     </td><td>FALSE</td><td>0.03784187</td><td>2.750</td><td>0.01892093</td><td>247.50</td></tr>\n",
       "</tbody>\n",
       "</table>\n"
      ],
      "text/latex": [
       "A tbl\\_tree: 7 x 9\n",
       "\\begin{tabular}{lllllllll}\n",
       " parent & node & branch.length & label & isTip & x & y & branch & angle\\\\\n",
       " <int> & <int> & <dbl> & <chr> & <lgl> & <dbl> & <dbl> & <dbl> & <dbl>\\\\\n",
       "\\hline\n",
       "\t 5 & 1 & 0.00000000 & TM32N1  &  TRUE & 0.00000000 & 1.000 & 0.00000000 &  90.00\\\\\n",
       "\t 7 & 2 & 0.03011097 & TM32P1  &  TRUE & 0.06795284 & 2.000 & 0.05289735 & 180.00\\\\\n",
       "\t 6 & 3 & 0.03281486 & TM32P2a &  TRUE & 0.10486442 & 4.000 & 0.08845699 & 360.00\\\\\n",
       "\t 6 & 4 & 0.05541156 & TM32P2b &  TRUE & 0.12746112 & 3.000 & 0.09975534 & 270.00\\\\\n",
       "\t 5 & 5 & 0.00000000 & NA      & FALSE & 0.00000000 & 1.875 & 0.00000000 & 168.75\\\\\n",
       "\t 7 & 6 & 0.03420769 & NA      & FALSE & 0.07204956 & 3.500 & 0.05494571 & 315.00\\\\\n",
       "\t 5 & 7 & 0.03784187 & NA      & FALSE & 0.03784187 & 2.750 & 0.01892093 & 247.50\\\\\n",
       "\\end{tabular}\n"
      ],
      "text/markdown": [
       "\n",
       "A tbl_tree: 7 x 9\n",
       "\n",
       "| parent &lt;int&gt; | node &lt;int&gt; | branch.length &lt;dbl&gt; | label &lt;chr&gt; | isTip &lt;lgl&gt; | x &lt;dbl&gt; | y &lt;dbl&gt; | branch &lt;dbl&gt; | angle &lt;dbl&gt; |\n",
       "|---|---|---|---|---|---|---|---|---|\n",
       "| 5 | 1 | 0.00000000 | TM32N1  |  TRUE | 0.00000000 | 1.000 | 0.00000000 |  90.00 |\n",
       "| 7 | 2 | 0.03011097 | TM32P1  |  TRUE | 0.06795284 | 2.000 | 0.05289735 | 180.00 |\n",
       "| 6 | 3 | 0.03281486 | TM32P2a |  TRUE | 0.10486442 | 4.000 | 0.08845699 | 360.00 |\n",
       "| 6 | 4 | 0.05541156 | TM32P2b |  TRUE | 0.12746112 | 3.000 | 0.09975534 | 270.00 |\n",
       "| 5 | 5 | 0.00000000 | NA      | FALSE | 0.00000000 | 1.875 | 0.00000000 | 168.75 |\n",
       "| 7 | 6 | 0.03420769 | NA      | FALSE | 0.07204956 | 3.500 | 0.05494571 | 315.00 |\n",
       "| 5 | 7 | 0.03784187 | NA      | FALSE | 0.03784187 | 2.750 | 0.01892093 | 247.50 |\n",
       "\n"
      ],
      "text/plain": [
       "  parent node branch.length label   isTip x          y     branch     angle \n",
       "1 5      1    0.00000000    TM32N1   TRUE 0.00000000 1.000 0.00000000  90.00\n",
       "2 7      2    0.03011097    TM32P1   TRUE 0.06795284 2.000 0.05289735 180.00\n",
       "3 6      3    0.03281486    TM32P2a  TRUE 0.10486442 4.000 0.08845699 360.00\n",
       "4 6      4    0.05541156    TM32P2b  TRUE 0.12746112 3.000 0.09975534 270.00\n",
       "5 5      5    0.00000000    NA      FALSE 0.00000000 1.875 0.00000000 168.75\n",
       "6 7      6    0.03420769    NA      FALSE 0.07204956 3.500 0.05494571 315.00\n",
       "7 5      7    0.03784187    NA      FALSE 0.03784187 2.750 0.01892093 247.50"
      ]
     },
     "metadata": {},
     "output_type": "display_data"
    }
   ],
   "source": [
    "tm32_ggtree$data"
   ]
  },
  {
   "cell_type": "code",
   "execution_count": null,
   "metadata": {
    "vscode": {
     "languageId": "r"
    }
   },
   "outputs": [
    {
     "name": "stderr",
     "output_type": "stream",
     "text": [
      "Warning message:\n",
      "\"\u001b[1m\u001b[22mRemoved 4 rows containing missing values (`geom_segment()`).\"\n",
      "Warning message:\n",
      "\"\u001b[1m\u001b[22mRemoved 4 rows containing missing values (`geom_segment()`).\"\n"
     ]
    },
    {
     "data": {
      "text/html": [
       "<ol>\n",
       "\t<li><dl>\n",
       "\t<dt>$subject</dt>\n",
       "\t\t<dd>'TM18'</dd>\n",
       "\t<dt>$all_mrca</dt>\n",
       "\t\t<dd>821.65981992331</dd>\n",
       "\t<dt>$p1_p2_mrca</dt>\n",
       "\t\t<dd>821.65981992331</dd>\n",
       "\t<dt>$p1_p3_mrca</dt>\n",
       "\t\t<dd>&lt;NA&gt;</dd>\n",
       "\t<dt>$p2_p3_mrca</dt>\n",
       "\t\t<dd>&lt;NA&gt;</dd>\n",
       "</dl>\n",
       "</li>\n",
       "</ol>\n"
      ],
      "text/latex": [
       "\\begin{enumerate}\n",
       "\\item \\begin{description}\n",
       "\\item[\\$subject] 'TM18'\n",
       "\\item[\\$all\\_mrca] 821.65981992331\n",
       "\\item[\\$p1\\_p2\\_mrca] 821.65981992331\n",
       "\\item[\\$p1\\_p3\\_mrca] <NA>\n",
       "\\item[\\$p2\\_p3\\_mrca] <NA>\n",
       "\\end{description}\n",
       "\n",
       "\\end{enumerate}\n"
      ],
      "text/markdown": [
       "1. $subject\n",
       ":   'TM18'\n",
       "$all_mrca\n",
       ":   821.65981992331\n",
       "$p1_p2_mrca\n",
       ":   821.65981992331\n",
       "$p1_p3_mrca\n",
       ":   &lt;NA&gt;\n",
       "$p2_p3_mrca\n",
       ":   &lt;NA&gt;\n",
       "\n",
       "\n",
       "\n",
       "\n",
       "\n"
      ],
      "text/plain": [
       "[[1]]\n",
       "[[1]]$subject\n",
       "[1] \"TM18\"\n",
       "\n",
       "[[1]]$all_mrca\n",
       "[1] 821.6598\n",
       "\n",
       "[[1]]$p1_p2_mrca\n",
       "[1] 821.6598\n",
       "\n",
       "[[1]]$p1_p3_mrca\n",
       "[1] NA\n",
       "\n",
       "[[1]]$p2_p3_mrca\n",
       "[1] NA\n",
       "\n"
      ]
     },
     "metadata": {},
     "output_type": "display_data"
    },
    {
     "name": "stderr",
     "output_type": "stream",
     "text": [
      "Warning message:\n",
      "\"\u001b[1m\u001b[22mRemoved 4 rows containing missing values (`geom_segment()`).\"\n"
     ]
    }
   ],
   "source": [
    "lapply(\"TM18\", bootstrap_mrca, markerlengths_tm32b, lung_l1_tbl, F)\n",
    "ggsave(\"../plots/Figure5/tm18_divs_tree.pdf\",\n",
    "  height = 6,\n",
    "  width = 15\n",
    ")"
   ]
  },
  {
   "cell_type": "code",
   "execution_count": null,
   "id": "339fdc3a",
   "metadata": {
    "vscode": {
     "languageId": "r"
    }
   },
   "outputs": [
    {
     "name": "stderr",
     "output_type": "stream",
     "text": [
      "Warning message:\n",
      "\"\u001b[1m\u001b[22mRemoved 4 rows containing missing values (`geom_segment()`).\"\n",
      "Warning message:\n",
      "\"\u001b[1m\u001b[22mRemoved 4 rows containing missing values (`geom_segment()`).\"\n"
     ]
    },
    {
     "data": {
      "text/html": [
       "<ol>\n",
       "\t<li><dl>\n",
       "\t<dt>$subject</dt>\n",
       "\t\t<dd>'TM2'</dd>\n",
       "\t<dt>$all_mrca</dt>\n",
       "\t\t<dd>290.891871638636</dd>\n",
       "\t<dt>$p1_p2_mrca</dt>\n",
       "\t\t<dd>290.891871638636</dd>\n",
       "\t<dt>$p1_p3_mrca</dt>\n",
       "\t\t<dd>&lt;NA&gt;</dd>\n",
       "\t<dt>$p2_p3_mrca</dt>\n",
       "\t\t<dd>&lt;NA&gt;</dd>\n",
       "</dl>\n",
       "</li>\n",
       "</ol>\n"
      ],
      "text/latex": [
       "\\begin{enumerate}\n",
       "\\item \\begin{description}\n",
       "\\item[\\$subject] 'TM2'\n",
       "\\item[\\$all\\_mrca] 290.891871638636\n",
       "\\item[\\$p1\\_p2\\_mrca] 290.891871638636\n",
       "\\item[\\$p1\\_p3\\_mrca] <NA>\n",
       "\\item[\\$p2\\_p3\\_mrca] <NA>\n",
       "\\end{description}\n",
       "\n",
       "\\end{enumerate}\n"
      ],
      "text/markdown": [
       "1. $subject\n",
       ":   'TM2'\n",
       "$all_mrca\n",
       ":   290.891871638636\n",
       "$p1_p2_mrca\n",
       ":   290.891871638636\n",
       "$p1_p3_mrca\n",
       ":   &lt;NA&gt;\n",
       "$p2_p3_mrca\n",
       ":   &lt;NA&gt;\n",
       "\n",
       "\n",
       "\n",
       "\n",
       "\n"
      ],
      "text/plain": [
       "[[1]]\n",
       "[[1]]$subject\n",
       "[1] \"TM2\"\n",
       "\n",
       "[[1]]$all_mrca\n",
       "[1] 290.8919\n",
       "\n",
       "[[1]]$p1_p2_mrca\n",
       "[1] 290.8919\n",
       "\n",
       "[[1]]$p1_p3_mrca\n",
       "[1] NA\n",
       "\n",
       "[[1]]$p2_p3_mrca\n",
       "[1] NA\n",
       "\n"
      ]
     },
     "metadata": {},
     "output_type": "display_data"
    },
    {
     "name": "stderr",
     "output_type": "stream",
     "text": [
      "Warning message:\n",
      "\"\u001b[1m\u001b[22mRemoved 4 rows containing missing values (`geom_segment()`).\"\n"
     ]
    }
   ],
   "source": [
    "lapply(\"TM2\", bootstrap_mrca, markerlengths_tm32b, lung_l1_tbl, F)\n",
    "ggsave(\"../plots/Figure4/tm2_divs_tree.pdf\",\n",
    "  height = 6,\n",
    "  width = 15\n",
    ")"
   ]
  },
  {
   "attachments": {},
   "cell_type": "markdown",
   "id": "66996dfc",
   "metadata": {},
   "source": [
    "Saving the data"
   ]
  },
  {
   "cell_type": "code",
   "execution_count": null,
   "id": "thirty-charleston",
   "metadata": {
    "vscode": {
     "languageId": "r"
    }
   },
   "outputs": [],
   "source": [
    "# saving both tables\n",
    "non_boot_l1  %>% \n",
    "    mutate(a=ifelse(a==\"TM32P2a\", \"TM32P2\", a),\n",
    "          b=ifelse(b==\"TM32P2a\", \"TM32P2\", b),\n",
    "          subject=str_remove(a, \"[N|P][:alnum:]+\"), \n",
    "          tumor_a=str_extract(a, \"[N|P][:alnum:]+\"),\n",
    "          tumor_b=str_extract(b, \"[N|P][:alnum:]+\"))    %>% \n",
    "    filter(a!=\"TM32P2b\", b!=\"TM32P2b\")  %>% \n",
    "write_tsv(\"../results/lung_pairwise_l1.tsv\")\n",
    "\n",
    "lung_l1_tbl %>%\n",
    "    mutate(subject=str_remove(a, \"[N|P][:alnum:]+\"), \n",
    "          tumor_a=str_extract(a, \"[N|P][:alnum:]+\"),\n",
    "          tumor_b=str_extract(b, \"[N|P][:alnum:]+\")) %>% \n",
    "    write_tsv(\"../results/lung_pairwise_l1_tm32b.tsv\")"
   ]
  },
  {
   "cell_type": "code",
   "execution_count": null,
   "id": "sexual-overview",
   "metadata": {
    "vscode": {
     "languageId": "r"
    }
   },
   "outputs": [],
   "source": [
    "# saving the mrca of all tumors\n",
    "bind_rows(mrca_list)  %>%  \n",
    "    write_tsv(\"../results/lung_mrca_table.tsv\")"
   ]
  },
  {
   "cell_type": "markdown",
   "id": "7cd83fe1",
   "metadata": {},
   "source": [
    "# Colorectal cancer trees"
   ]
  },
  {
   "cell_type": "code",
   "execution_count": 76,
   "id": "d5ab3d22",
   "metadata": {
    "vscode": {
     "languageId": "r"
    }
   },
   "outputs": [
    {
     "name": "stderr",
     "output_type": "stream",
     "text": [
      "\u001b[1mRows: \u001b[22m\u001b[34m18\u001b[39m \u001b[1mColumns: \u001b[22m\u001b[34m2\u001b[39m\n",
      "\u001b[36m--\u001b[39m \u001b[1mColumn specification\u001b[22m \u001b[36m--------------------------------------------------------\u001b[39m\n",
      "\u001b[1mDelimiter:\u001b[22m \"\\t\"\n",
      "\u001b[31mchr\u001b[39m (2): Sample_ID, Real_Sample_ID\n",
      "\n",
      "\u001b[36mi\u001b[39m Use `spec()` to retrieve the full column specification for this data.\n",
      "\u001b[36mi\u001b[39m Specify the column types or set `show_col_types = FALSE` to quiet this message.\n",
      "\u001b[1mRows: \u001b[22m\u001b[34m15\u001b[39m \u001b[1mColumns: \u001b[22m\u001b[34m2\u001b[39m\n",
      "\u001b[36m--\u001b[39m \u001b[1mColumn specification\u001b[22m \u001b[36m--------------------------------------------------------\u001b[39m\n",
      "\u001b[1mDelimiter:\u001b[22m \"\\t\"\n",
      "\u001b[31mchr\u001b[39m (2): Sample_ID, Real_Sample_ID\n",
      "\n",
      "\u001b[36mi\u001b[39m Use `spec()` to retrieve the full column specification for this data.\n",
      "\u001b[36mi\u001b[39m Specify the column types or set `show_col_types = FALSE` to quiet this message.\n",
      "\u001b[1mRows: \u001b[22m\u001b[34m11\u001b[39m \u001b[1mColumns: \u001b[22m\u001b[34m2\u001b[39m\n",
      "\u001b[36m--\u001b[39m \u001b[1mColumn specification\u001b[22m \u001b[36m--------------------------------------------------------\u001b[39m\n",
      "\u001b[1mDelimiter:\u001b[22m \"\\t\"\n",
      "\u001b[31mchr\u001b[39m (2): Sample_ID, Real_Sample_ID\n",
      "\n",
      "\u001b[36mi\u001b[39m Use `spec()` to retrieve the full column specification for this data.\n",
      "\u001b[36mi\u001b[39m Specify the column types or set `show_col_types = FALSE` to quiet this message.\n",
      "\u001b[1mRows: \u001b[22m\u001b[34m13\u001b[39m \u001b[1mColumns: \u001b[22m\u001b[34m2\u001b[39m\n",
      "\u001b[36m--\u001b[39m \u001b[1mColumn specification\u001b[22m \u001b[36m--------------------------------------------------------\u001b[39m\n",
      "\u001b[1mDelimiter:\u001b[22m \"\\t\"\n",
      "\u001b[31mchr\u001b[39m (2): Sample_ID, Real_Sample_ID\n",
      "\n",
      "\u001b[36mi\u001b[39m Use `spec()` to retrieve the full column specification for this data.\n",
      "\u001b[36mi\u001b[39m Specify the column types or set `show_col_types = FALSE` to quiet this message.\n",
      "\u001b[1mRows: \u001b[22m\u001b[34m7\u001b[39m \u001b[1mColumns: \u001b[22m\u001b[34m2\u001b[39m\n",
      "\u001b[36m--\u001b[39m \u001b[1mColumn specification\u001b[22m \u001b[36m--------------------------------------------------------\u001b[39m\n",
      "\u001b[1mDelimiter:\u001b[22m \"\\t\"\n",
      "\u001b[31mchr\u001b[39m (2): Sample_ID, Real_Sample_ID\n",
      "\n",
      "\u001b[36mi\u001b[39m Use `spec()` to retrieve the full column specification for this data.\n",
      "\u001b[36mi\u001b[39m Specify the column types or set `show_col_types = FALSE` to quiet this message.\n",
      "\u001b[1mRows: \u001b[22m\u001b[34m8\u001b[39m \u001b[1mColumns: \u001b[22m\u001b[34m2\u001b[39m\n",
      "\u001b[36m--\u001b[39m \u001b[1mColumn specification\u001b[22m \u001b[36m--------------------------------------------------------\u001b[39m\n",
      "\u001b[1mDelimiter:\u001b[22m \"\\t\"\n",
      "\u001b[31mchr\u001b[39m (2): Sample_ID, Real_Sample_ID\n",
      "\n",
      "\u001b[36mi\u001b[39m Use `spec()` to retrieve the full column specification for this data.\n",
      "\u001b[36mi\u001b[39m Specify the column types or set `show_col_types = FALSE` to quiet this message.\n",
      "\u001b[1mRows: \u001b[22m\u001b[34m9\u001b[39m \u001b[1mColumns: \u001b[22m\u001b[34m2\u001b[39m\n",
      "\u001b[36m--\u001b[39m \u001b[1mColumn specification\u001b[22m \u001b[36m--------------------------------------------------------\u001b[39m\n",
      "\u001b[1mDelimiter:\u001b[22m \"\\t\"\n",
      "\u001b[31mchr\u001b[39m (2): Sample_ID, Real_Sample_ID\n",
      "\n",
      "\u001b[36mi\u001b[39m Use `spec()` to retrieve the full column specification for this data.\n",
      "\u001b[36mi\u001b[39m Specify the column types or set `show_col_types = FALSE` to quiet this message.\n",
      "\u001b[1mRows: \u001b[22m\u001b[34m9\u001b[39m \u001b[1mColumns: \u001b[22m\u001b[34m2\u001b[39m\n",
      "\u001b[36m--\u001b[39m \u001b[1mColumn specification\u001b[22m \u001b[36m--------------------------------------------------------\u001b[39m\n",
      "\u001b[1mDelimiter:\u001b[22m \"\\t\"\n",
      "\u001b[31mchr\u001b[39m (2): Sample_ID, Real_Sample_ID\n",
      "\n",
      "\u001b[36mi\u001b[39m Use `spec()` to retrieve the full column specification for this data.\n",
      "\u001b[36mi\u001b[39m Specify the column types or set `show_col_types = FALSE` to quiet this message.\n",
      "\u001b[1mRows: \u001b[22m\u001b[34m10\u001b[39m \u001b[1mColumns: \u001b[22m\u001b[34m3\u001b[39m\n",
      "\u001b[36m--\u001b[39m \u001b[1mColumn specification\u001b[22m \u001b[36m--------------------------------------------------------\u001b[39m\n",
      "\u001b[1mDelimiter:\u001b[22m \"\\t\"\n",
      "\u001b[31mchr\u001b[39m (3): Sample_ID, Real_Sample_ID, Info\n",
      "\n",
      "\u001b[36mi\u001b[39m Use `spec()` to retrieve the full column specification for this data.\n",
      "\u001b[36mi\u001b[39m Specify the column types or set `show_col_types = FALSE` to quiet this message.\n",
      "\u001b[1mRows: \u001b[22m\u001b[34m7\u001b[39m \u001b[1mColumns: \u001b[22m\u001b[34m2\u001b[39m\n",
      "\u001b[36m--\u001b[39m \u001b[1mColumn specification\u001b[22m \u001b[36m--------------------------------------------------------\u001b[39m\n",
      "\u001b[1mDelimiter:\u001b[22m \"\\t\"\n",
      "\u001b[31mchr\u001b[39m (2): Sample_ID, Real_Sample_ID\n",
      "\n",
      "\u001b[36mi\u001b[39m Use `spec()` to retrieve the full column specification for this data.\n",
      "\u001b[36mi\u001b[39m Specify the column types or set `show_col_types = FALSE` to quiet this message.\n",
      "\u001b[1mRows: \u001b[22m\u001b[34m20\u001b[39m \u001b[1mColumns: \u001b[22m\u001b[34m2\u001b[39m\n",
      "\u001b[36m--\u001b[39m \u001b[1mColumn specification\u001b[22m \u001b[36m--------------------------------------------------------\u001b[39m\n",
      "\u001b[1mDelimiter:\u001b[22m \"\\t\"\n",
      "\u001b[31mchr\u001b[39m (2): Sample_ID, Real_Sample_ID\n",
      "\n",
      "\u001b[36mi\u001b[39m Use `spec()` to retrieve the full column specification for this data.\n",
      "\u001b[36mi\u001b[39m Specify the column types or set `show_col_types = FALSE` to quiet this message.\n",
      "\u001b[1mRows: \u001b[22m\u001b[34m13\u001b[39m \u001b[1mColumns: \u001b[22m\u001b[34m2\u001b[39m\n",
      "\u001b[36m--\u001b[39m \u001b[1mColumn specification\u001b[22m \u001b[36m--------------------------------------------------------\u001b[39m\n",
      "\u001b[1mDelimiter:\u001b[22m \"\\t\"\n",
      "\u001b[31mchr\u001b[39m (2): Sample_ID, Real_Sample_ID\n",
      "\n",
      "\u001b[36mi\u001b[39m Use `spec()` to retrieve the full column specification for this data.\n",
      "\u001b[36mi\u001b[39m Specify the column types or set `show_col_types = FALSE` to quiet this message.\n",
      "\u001b[1mRows: \u001b[22m\u001b[34m9\u001b[39m \u001b[1mColumns: \u001b[22m\u001b[34m2\u001b[39m\n",
      "\u001b[36m--\u001b[39m \u001b[1mColumn specification\u001b[22m \u001b[36m--------------------------------------------------------\u001b[39m\n",
      "\u001b[1mDelimiter:\u001b[22m \"\\t\"\n",
      "\u001b[31mchr\u001b[39m (2): Sample_ID, Real_Sample_ID\n",
      "\n",
      "\u001b[36mi\u001b[39m Use `spec()` to retrieve the full column specification for this data.\n",
      "\u001b[36mi\u001b[39m Specify the column types or set `show_col_types = FALSE` to quiet this message.\n",
      "\u001b[1mRows: \u001b[22m\u001b[34m5\u001b[39m \u001b[1mColumns: \u001b[22m\u001b[34m2\u001b[39m\n",
      "\u001b[36m--\u001b[39m \u001b[1mColumn specification\u001b[22m \u001b[36m--------------------------------------------------------\u001b[39m\n",
      "\u001b[1mDelimiter:\u001b[22m \"\\t\"\n",
      "\u001b[31mchr\u001b[39m (2): Sample_ID, Real_Sample_ID\n",
      "\n",
      "\u001b[36mi\u001b[39m Use `spec()` to retrieve the full column specification for this data.\n",
      "\u001b[36mi\u001b[39m Specify the column types or set `show_col_types = FALSE` to quiet this message.\n",
      "\u001b[1mRows: \u001b[22m\u001b[34m9\u001b[39m \u001b[1mColumns: \u001b[22m\u001b[34m2\u001b[39m\n",
      "\u001b[36m--\u001b[39m \u001b[1mColumn specification\u001b[22m \u001b[36m--------------------------------------------------------\u001b[39m\n",
      "\u001b[1mDelimiter:\u001b[22m \"\\t\"\n",
      "\u001b[31mchr\u001b[39m (2): Sample_ID, Real_Sample_ID\n",
      "\n",
      "\u001b[36mi\u001b[39m Use `spec()` to retrieve the full column specification for this data.\n",
      "\u001b[36mi\u001b[39m Specify the column types or set `show_col_types = FALSE` to quiet this message.\n",
      "\u001b[1mRows: \u001b[22m\u001b[34m13\u001b[39m \u001b[1mColumns: \u001b[22m\u001b[34m2\u001b[39m\n",
      "\u001b[36m--\u001b[39m \u001b[1mColumn specification\u001b[22m \u001b[36m--------------------------------------------------------\u001b[39m\n",
      "\u001b[1mDelimiter:\u001b[22m \"\\t\"\n",
      "\u001b[31mchr\u001b[39m (2): Sample_ID, Real_Sample_ID\n",
      "\n",
      "\u001b[36mi\u001b[39m Use `spec()` to retrieve the full column specification for this data.\n",
      "\u001b[36mi\u001b[39m Specify the column types or set `show_col_types = FALSE` to quiet this message.\n",
      "\u001b[1mRows: \u001b[22m\u001b[34m14\u001b[39m \u001b[1mColumns: \u001b[22m\u001b[34m2\u001b[39m\n",
      "\u001b[36m--\u001b[39m \u001b[1mColumn specification\u001b[22m \u001b[36m--------------------------------------------------------\u001b[39m\n",
      "\u001b[1mDelimiter:\u001b[22m \"\\t\"\n",
      "\u001b[31mchr\u001b[39m (2): Sample_ID, Real_Sample_ID\n",
      "\n",
      "\u001b[36mi\u001b[39m Use `spec()` to retrieve the full column specification for this data.\n",
      "\u001b[36mi\u001b[39m Specify the column types or set `show_col_types = FALSE` to quiet this message.\n",
      "\u001b[1mRows: \u001b[22m\u001b[34m8\u001b[39m \u001b[1mColumns: \u001b[22m\u001b[34m2\u001b[39m\n",
      "\u001b[36m--\u001b[39m \u001b[1mColumn specification\u001b[22m \u001b[36m--------------------------------------------------------\u001b[39m\n",
      "\u001b[1mDelimiter:\u001b[22m \"\\t\"\n",
      "\u001b[31mchr\u001b[39m (2): Sample_ID, Real_Sample_ID\n",
      "\n",
      "\u001b[36mi\u001b[39m Use `spec()` to retrieve the full column specification for this data.\n",
      "\u001b[36mi\u001b[39m Specify the column types or set `show_col_types = FALSE` to quiet this message.\n",
      "\u001b[1mRows: \u001b[22m\u001b[34m15\u001b[39m \u001b[1mColumns: \u001b[22m\u001b[34m2\u001b[39m\n",
      "\u001b[36m--\u001b[39m \u001b[1mColumn specification\u001b[22m \u001b[36m--------------------------------------------------------\u001b[39m\n",
      "\u001b[1mDelimiter:\u001b[22m \"\\t\"\n",
      "\u001b[31mchr\u001b[39m (2): Sample_ID, Real_Sample_ID\n",
      "\n",
      "\u001b[36mi\u001b[39m Use `spec()` to retrieve the full column specification for this data.\n",
      "\u001b[36mi\u001b[39m Specify the column types or set `show_col_types = FALSE` to quiet this message.\n"
     ]
    }
   ],
   "source": [
    "# renaming sample names with their organ of origin for data from the Science paper\n",
    "\n",
    "# function to read files  \n",
    "read_annotation_files  <- function(annotation_file) {\n",
    "read_tsv(annotation_file)  %>% \n",
    "    rename(sample=Sample_ID, new_id=Real_Sample_ID)\n",
    "                            }\n",
    "annotation_files  <- list.files(\"../data/science_2017/AnnotationFiles/\", \n",
    "                                full.names = TRUE)\n",
    "\n",
    "tbl_list  <- lapply(annotation_files, read_annotation_files)\n",
    "sample_names  <- bind_rows(tbl_list)"
   ]
  },
  {
   "cell_type": "markdown",
   "id": "365ca978",
   "metadata": {},
   "source": [
    "### Extracting marker lengths\n",
    "Getting the minimum number of marker all samples agree on, as long as that's more than 70% of the maximum possible markers "
   ]
  },
  {
   "cell_type": "code",
   "execution_count": 77,
   "id": "7a6b5598",
   "metadata": {
    "vscode": {
     "languageId": "r"
    }
   },
   "outputs": [],
   "source": [
    "# function to get markers that are present in all samples\n",
    "get_sampler_marker  <- function(sample_i, marker_tbl) {\n",
    "    \n",
    "    marker_tbl  %>% \n",
    "    filter(sample==sample_i)  %>% \n",
    "    pull(marker)  %>% \n",
    "    unique()\n",
    "}\n",
    "\n",
    "get_minimum_marker_table  <- function(subject_i, markerlengths){\n",
    "\n",
    "marker_tbl <-  markerlengths  %>% \n",
    "    filter(subject==subject_i)  %>% \n",
    "    group_by(sample)  %>% \n",
    "    add_count(sample)  %>% \n",
    "    ungroup()  %>% \n",
    "    mutate(minimum_markers = max(n)*0.7) %>% \n",
    "    filter(n>minimum_markers) \n",
    "    \n",
    "samples  <- unique(marker_tbl$sample)\n",
    "marker_list  <- lapply(samples, get_sampler_marker, marker_tbl)\n",
    "common_markers  <- Reduce(intersect, marker_list)\n",
    "\n",
    "n_common_markers  <- length(common_markers)\n",
    "\n",
    "markerlengths  %>% \n",
    "    filter(subject==subject_i, marker %in% common_markers)   %>% \n",
    "    group_by(sample)  %>% \n",
    "    add_count(sample)  %>% \n",
    "    filter(n==n_common_markers)  %>% \n",
    "    select(-n)\n",
    "    \n",
    "    }"
   ]
  },
  {
   "cell_type": "code",
   "execution_count": 78,
   "id": "fa843089",
   "metadata": {
    "vscode": {
     "languageId": "r"
    }
   },
   "outputs": [
    {
     "name": "stderr",
     "output_type": "stream",
     "text": [
      "C100\n",
      "\n"
     ]
    },
    {
     "name": "stderr",
     "output_type": "stream",
     "text": [
      "C102\n",
      "\n",
      "C11\n",
      "\n",
      "C57\n",
      "\n",
      "C6\n",
      "\n",
      "C70\n",
      "\n",
      "C80\n",
      "\n",
      "C83\n",
      "\n",
      "C84\n",
      "\n",
      "C85\n",
      "\n",
      "C89\n",
      "\n",
      "C90\n",
      "\n",
      "C92\n",
      "\n",
      "C93\n",
      "\n",
      "C94\n",
      "\n",
      "C95\n",
      "\n",
      "C96\n",
      "\n",
      "C97\n",
      "\n",
      "C98\n",
      "\n",
      "C99\n",
      "\n",
      "C12\n",
      "\n",
      "C31\n",
      "\n",
      "C36\n",
      "\n",
      "C38\n",
      "\n",
      "C39\n",
      "\n",
      "C45\n",
      "\n",
      "C46\n",
      "\n",
      "C51\n",
      "\n",
      "C53\n",
      "\n",
      "C57\n",
      "\n",
      "C58\n",
      "\n",
      "C59\n",
      "\n",
      "C61\n",
      "\n",
      "C63\n",
      "\n",
      "C65\n",
      "\n",
      "C66\n",
      "\n",
      "C69\n",
      "\n",
      "C77\n",
      "\n",
      "C79\n",
      "\n"
     ]
    }
   ],
   "source": [
    "# directroy of the results from the Reiter et al 2020 Nat Gen paper\n",
    "dir_list <- list.files(\"../data/natgen_2020/\",\n",
    "    pattern = \"_R$\", full.names = TRUE\n",
    ") \n",
    "\n",
    "l <- purrr::map(dir_list, get_markerlengths)\n",
    "markerlengths_natgen <- bind_rows(l) \n",
    "\n",
    "## directroy of the results from the Naxerova et al 2018 Science paper\n",
    "dir_list <-  list.files(\"../data/science_2017/\", \n",
    "                        pattern= \"_R$\", full.names=TRUE)\n",
    "# directoy name for science cohort needs to include the string \"science\"\n",
    "l <- purrr::map(dir_list, get_markerlengths)\n",
    "markerlengths_science  <- bind_rows(l)"
   ]
  },
  {
   "cell_type": "code",
   "execution_count": 79,
   "id": "c43dc3fc",
   "metadata": {
    "vscode": {
     "languageId": "r"
    }
   },
   "outputs": [],
   "source": [
    "# processing data from Nat Gen paper\n",
    "subjects  <- unique(markerlengths_natgen$subject)\n",
    "minimum_marker_tbls  <- lapply(subjects, get_minimum_marker_table, markerlengths_natgen)\n",
    "minimum_markerlengths_natgen <- bind_rows(minimum_marker_tbls) "
   ]
  },
  {
   "cell_type": "code",
   "execution_count": 80,
   "id": "c095baf2",
   "metadata": {
    "vscode": {
     "languageId": "r"
    }
   },
   "outputs": [
    {
     "name": "stderr",
     "output_type": "stream",
     "text": [
      "\u001b[1m\u001b[22mJoining with `by = join_by(sample)`\n"
     ]
    }
   ],
   "source": [
    "# renaming samples from Science paper \n",
    "# getting all marker lengths from normal \n",
    "markerlengths_science_renamed  <- left_join(markerlengths_science, sample_names)  %>% \n",
    "    mutate(sample=paste0(subject, new_id))  %>% \n",
    "    select(1:4)\n",
    "\n",
    "# getting all marker lengths from normal \n",
    "subjects  <- unique(markerlengths_science_renamed$subject)\n",
    "minimum_marker_tbls_science  <- lapply(subjects, get_minimum_marker_table, markerlengths_science_renamed)\n",
    "minimum_markerlengths_science  <- bind_rows(minimum_marker_tbls_science) %>% \n",
    "    # for the science cohort, the normal marker length needs to be subteracted at this point\n",
    "    group_by(subject, marker) %>% \n",
    "    mutate(length = length - length[sample==str_subset(sample, \"N\")[1]])   %>% \n",
    "    #removing subject C39 for lack of obvious primary tumor and C57 because it is included in the Nat Gen cohort\n",
    "    filter(!str_detect(sample, \"C39|C57\"))"
   ]
  },
  {
   "cell_type": "markdown",
   "id": "abf8db1f",
   "metadata": {},
   "source": [
    "### Converting markerlengths into L1 distance and cell divisions\n",
    "Data from Reiter et al. Nat Gen 2020."
   ]
  },
  {
   "cell_type": "code",
   "execution_count": 81,
   "id": "05cfcbdb",
   "metadata": {
    "vscode": {
     "languageId": "r"
    }
   },
   "outputs": [],
   "source": [
    "# getting intrapatient sample combinations\n",
    "\n",
    "# find samples\n",
    "samples <- minimum_markerlengths_natgen$sample %>% unique\n",
    "\n",
    "combos_wide <- combn(samples, m= 2) %>% as.data.frame()\n",
    "\n",
    "## make combo table longer\n",
    "combos_long <- data.frame(a=as.character(combos_wide[1,]), b=as.character(combos_wide[2,]))\n",
    "\n",
    "## only use combintions from the same subject\n",
    "combos <- combos_long %>% \n",
    "    mutate(sample_a=str_remove(a, \"[N|P|M|L|Ad][:alnum:]+\"),\n",
    "          sample_b=str_remove(b, \"[N|P|M|L|Ad][:alnum:]+\"))  %>% \n",
    "    filter(sample_a==sample_b) %>% \n",
    "    dplyr::select(a, b)  \n"
   ]
  },
  {
   "cell_type": "code",
   "execution_count": 82,
   "id": "90c653dd",
   "metadata": {
    "vscode": {
     "languageId": "r"
    }
   },
   "outputs": [],
   "source": [
    "# getting l1 for all intrapatient sample combinations in the cohort\n",
    "l1 <- lapply(1:nrow(combos), get_l1_r_for_combination, combos, minimum_markerlengths_natgen)\n",
    "natgen_cell_divs  <- bind_rows(l1)  %>% \n",
    "    # different mutation rates for MSI and MSS tumors\n",
    "    mutate(divs=ifelse(str_detect(a, \"C92[:alpha:]|C95[:alpha:]|C6[:alpha:]|C38[:alpha:]|C12[:alpha:]|C102[:alpha:]\"), l1/0.000471905953288399, l1/9.43139014888478e-05))"
   ]
  },
  {
   "cell_type": "markdown",
   "id": "02b898f1",
   "metadata": {},
   "source": [
    "Data from Naxerova et al. Science 2017."
   ]
  },
  {
   "cell_type": "code",
   "execution_count": 83,
   "id": "bfba5a3d",
   "metadata": {
    "vscode": {
     "languageId": "r"
    }
   },
   "outputs": [],
   "source": [
    "# getting intrapatient sample combinations\n",
    "\n",
    "# find samples\n",
    "samples <- minimum_markerlengths_science$sample %>% unique\n",
    "\n",
    "combos_wide <- combn(samples, m= 2) %>% as.data.frame()\n",
    "\n",
    "## make combo table longer\n",
    "combos_long <- data.frame(a=as.character(combos_wide[1,]), b=as.character(combos_wide[2,]))\n",
    "\n",
    "## only use combintions from the same subject\n",
    "combos <- combos_long %>% \n",
    "    mutate(sample_a=str_remove(a, \"[N|P|M|L|Ad][:alnum:]+\"),\n",
    "          sample_b=str_remove(b, \"[N|P|M|L|Ad][:alnum:]+\"))  %>% \n",
    "    filter(sample_a==sample_b) %>% \n",
    "    dplyr::select(a, b)  "
   ]
  },
  {
   "cell_type": "code",
   "execution_count": 84,
   "id": "5502b15c",
   "metadata": {
    "vscode": {
     "languageId": "r"
    }
   },
   "outputs": [],
   "source": [
    "# getting l1 for all intrapatient sample combinations in the cohort\n",
    "l1 <- lapply(1:nrow(combos), get_l1_r_for_combination, combos, minimum_markerlengths_science)\n",
    "science_cell_divs  <- bind_rows(l1)  %>% \n",
    "    # different mutation rates for MSI and MSS tumors\n",
    "    mutate(divs=ifelse(str_detect(a, \"C92[:alpha:]|C95[:alpha:]|C6[:alpha:]|C38[:alpha:]|C12[:alpha:]|C102[:alpha:]\"), l1/0.000471905953288399, l1/9.43139014888478e-05))"
   ]
  },
  {
   "cell_type": "code",
   "execution_count": 85,
   "id": "7f2baf3f",
   "metadata": {
    "vscode": {
     "languageId": "r"
    }
   },
   "outputs": [],
   "source": [
    "l1_tbl <- bind_rows(science_cell_divs, natgen_cell_divs) "
   ]
  },
  {
   "cell_type": "code",
   "execution_count": 86,
   "id": "e62fdde1",
   "metadata": {
    "vscode": {
     "languageId": "r"
    }
   },
   "outputs": [],
   "source": [
    "# saving l1 and markerlength data\n",
    "crc_markerlengths <- bind_rows(minimum_markerlengths_science, minimum_markerlengths_natgen)  \n",
    "\n",
    "crc_markerlengths %>% \n",
    "    write_tsv(\"../results/crc_markerlengths.tsv\")\n",
    "l1_tbl %>% \n",
    "    write_tsv(\"../results/crc_pairwise_l1.tsv\")"
   ]
  },
  {
   "cell_type": "markdown",
   "id": "667ba780",
   "metadata": {},
   "source": [
    "## Plotting all trees with cell divisions timing and extracting MRCA divisions"
   ]
  },
  {
   "cell_type": "code",
   "execution_count": 87,
   "id": "2943bb00",
   "metadata": {
    "vscode": {
     "languageId": "r"
    }
   },
   "outputs": [],
   "source": [
    "plot_trees <- TRUE"
   ]
  },
  {
   "cell_type": "markdown",
   "id": "6fa7eeb2",
   "metadata": {},
   "source": [
    "### Nat Gen Trees"
   ]
  },
  {
   "cell_type": "code",
   "execution_count": 88,
   "id": "a870f407",
   "metadata": {
    "vscode": {
     "languageId": "r"
    }
   },
   "outputs": [
    {
     "name": "stderr",
     "output_type": "stream",
     "text": [
      "C100\n",
      "\n",
      "C102\n",
      "\n",
      "C11\n",
      "\n",
      "C57\n",
      "\n",
      "C6\n",
      "\n",
      "C70\n",
      "\n",
      "C80\n",
      "\n",
      "C83\n",
      "\n",
      "C84\n",
      "\n",
      "C85\n",
      "\n",
      "C89\n",
      "\n",
      "C90\n",
      "\n",
      "C92\n",
      "\n",
      "C93\n",
      "\n",
      "C94\n",
      "\n",
      "C95\n",
      "\n",
      "C96\n",
      "\n",
      "C97\n",
      "\n",
      "C98\n",
      "\n",
      "C99\n",
      "\n"
     ]
    }
   ],
   "source": [
    "subjects  <- unique(minimum_markerlengths_natgen$subject)\n",
    "mrca_list  <- lapply(subjects, plot_tree_hm_extract_mrcas, natgen_cell_divs, minimum_markerlengths_natgen, plot_trees)"
   ]
  },
  {
   "cell_type": "markdown",
   "id": "9d5789e6",
   "metadata": {},
   "source": [
    "### Science Trees"
   ]
  },
  {
   "cell_type": "code",
   "execution_count": 89,
   "id": "32360f3d",
   "metadata": {
    "vscode": {
     "languageId": "r"
    }
   },
   "outputs": [
    {
     "name": "stderr",
     "output_type": "stream",
     "text": [
      "C12\n",
      "\n"
     ]
    },
    {
     "name": "stderr",
     "output_type": "stream",
     "text": [
      "C31\n",
      "\n",
      "C36\n",
      "\n",
      "C38\n",
      "\n",
      "C45\n",
      "\n",
      "C46\n",
      "\n",
      "C51\n",
      "\n",
      "C53\n",
      "\n",
      "C58\n",
      "\n",
      "C59\n",
      "\n",
      "C61\n",
      "\n",
      "C63\n",
      "\n",
      "C65\n",
      "\n",
      "C66\n",
      "\n",
      "C69\n",
      "\n",
      "C77\n",
      "\n",
      "C79\n",
      "\n"
     ]
    }
   ],
   "source": [
    "subjects  <- unique(minimum_markerlengths_science$subject)\n",
    "mrca_list_science  <- lapply(subjects, plot_tree_hm_extract_mrcas, science_cell_divs, minimum_markerlengths_science, plot_trees)"
   ]
  },
  {
   "cell_type": "code",
   "execution_count": 17,
   "id": "f7f63c08",
   "metadata": {
    "vscode": {
     "languageId": "r"
    }
   },
   "outputs": [],
   "source": [
    "mrca_tbl <- bind_rows(mrca_list, mrca_list_science)"
   ]
  },
  {
   "cell_type": "code",
   "execution_count": 18,
   "id": "9bda7375",
   "metadata": {
    "vscode": {
     "languageId": "r"
    }
   },
   "outputs": [],
   "source": [
    "bind_rows(mrca_list, mrca_list_science)  %>% \n",
    "    write_tsv(\"../results/crc_mrca_table.tsv\")"
   ]
  },
  {
   "cell_type": "markdown",
   "id": "b469ba79",
   "metadata": {},
   "source": [
    "### Divergence timing\n",
    "Timing the mrca of lesions with the primary tumor:"
   ]
  },
  {
   "cell_type": "code",
   "execution_count": 23,
   "id": "7ae2eccd",
   "metadata": {
    "vscode": {
     "languageId": "r"
    }
   },
   "outputs": [
    {
     "name": "stderr",
     "output_type": "stream",
     "text": [
      "C100\n",
      "\n",
      "C102\n",
      "\n",
      "C11\n",
      "\n",
      "C57\n",
      "\n",
      "C6\n",
      "\n",
      "C70\n",
      "\n",
      "C80\n",
      "\n",
      "C83\n",
      "\n",
      "C84\n",
      "\n",
      "C85\n",
      "\n",
      "C89\n",
      "\n",
      "C90\n",
      "\n",
      "C92\n",
      "\n",
      "C93\n",
      "\n",
      "C94\n",
      "\n",
      "C95\n",
      "\n",
      "C96\n",
      "\n",
      "C97\n",
      "\n",
      "C98\n",
      "\n",
      "C99\n",
      "\n",
      "C12\n",
      "\n",
      "C31\n",
      "\n",
      "C36\n",
      "\n",
      "C38\n",
      "\n",
      "C45\n",
      "\n",
      "C46\n",
      "\n",
      "C51\n",
      "\n",
      "C53\n",
      "\n",
      "C58\n",
      "\n",
      "C59\n",
      "\n",
      "C61\n",
      "\n",
      "C65\n",
      "\n",
      "C66\n",
      "\n",
      "C69\n",
      "\n",
      "C77\n",
      "\n",
      "C79\n",
      "\n"
     ]
    }
   ],
   "source": [
    "subjects  <- unique(minimum_markerlengths_natgen$subject)\n",
    "\n",
    "natgen_divergence  <- lapply(subjects, timing_pt_divergence, natgen_cell_divs)\n",
    "\n",
    "subjects  <- unique(minimum_markerlengths_science$subject)  %>% \n",
    "# C63 only has one sample of the primary tumor, so there is no ground truth in terms of divergence timing\n",
    "    str_subset(\"C63\", negate=TRUE)\n",
    "science_divergence  <- lapply(subjects, timing_pt_divergence, science_cell_divs)\n",
    "\n",
    "divergence_timing  <- bind_rows(natgen_divergence, science_divergence)"
   ]
  },
  {
   "cell_type": "code",
   "execution_count": 24,
   "id": "eda6bb3f",
   "metadata": {
    "vscode": {
     "languageId": "r"
    }
   },
   "outputs": [],
   "source": [
    "divergence_timing %>%\n",
    "    write_tsv(\"../results/crc_divergence_timing.tsv\")"
   ]
  },
  {
   "cell_type": "markdown",
   "id": "6b868a87",
   "metadata": {},
   "source": [
    "## Boostrapping trees"
   ]
  },
  {
   "cell_type": "code",
   "execution_count": 25,
   "id": "30867652",
   "metadata": {
    "vscode": {
     "languageId": "r"
    }
   },
   "outputs": [],
   "source": [
    "# finding combination of samples to bootstrap\n",
    "\n",
    "get_boot_combos <- function(markerlengths, subject_i) {\n",
    "      \n",
    "      # find samples\n",
    "      samples <- markerlengths %>% \n",
    "            filter(subject==subject_i) %>% \n",
    "            pull(sample) %>%\n",
    "            unique()\n",
    "\n",
    "      combos_wide <- combn(samples, m = 2) %>% as.data.frame()\n",
    "\n",
    "      ## make combo table longer\n",
    "      combos_long <- data.frame(a = as.character(combos_wide[1, ]), b = as.character(combos_wide[2, ]))\n",
    "}\n"
   ]
  },
  {
   "cell_type": "code",
   "execution_count": 26,
   "id": "d30e2ed8",
   "metadata": {
    "vscode": {
     "languageId": "r"
    }
   },
   "outputs": [],
   "source": [
    "# function to the find the MRCA of a specific marker combination\n",
    "\n",
    "boot_mrca <- function(i, subject_i, subject_markers, n_markers, boot_combos) {\n",
    "        \n",
    "        marker_table <- subject_markers %>%\n",
    "            slice_sample(n = n_markers, replace = TRUE) %>%\n",
    "            unnest(data) %>%\n",
    "            select(subject, sample, marker, length) %>%\n",
    "            ungroup()\n",
    "\n",
    "        l1_comb_boot <- lapply(1:nrow(boot_combos), get_l1_r_for_combination, boot_combos, marker_table)\n",
    "\n",
    "        tbl_boot <- bind_rows(l1_comb_boot) %>%\n",
    "            mutate(divs=ifelse(str_detect(a, \"C92[:alpha:]|C95[:alpha:]|C6[:alpha:]|C38[:alpha:]|C12[:alpha:]|C102[:alpha:]\"), l1/0.000471905953288399, l1/9.43139014888478e-05)) %>%\n",
    "            select(a, b, divs)\n",
    "\n",
    "        tree <- plot_tree(subject_i, tbl_boot)\n",
    "\n",
    "        return(tree)\n",
    "        \n",
    "    }"
   ]
  },
  {
   "cell_type": "code",
   "execution_count": 27,
   "id": "5bdfe4ff",
   "metadata": {
    "vscode": {
     "languageId": "r"
    }
   },
   "outputs": [],
   "source": [
    "bootstrap_mrca <- function(subject_i, markerlengths, divs_tbl) {\n",
    "    \n",
    "    # nesting markers\n",
    "    subject_markers <- markerlengths %>%\n",
    "        filter(subject == subject_i) %>% \n",
    "        group_by(subject, marker) %>% \n",
    "        nest %>% \n",
    "        ungroup \n",
    "\n",
    "    # getting combos to bootstrap through\n",
    "    boot_combos <- get_boot_combos(markerlengths, subject_i)\n",
    "\n",
    "    n_markers <- length(unique(subject_markers$marker))\n",
    "\n",
    "    # number of bootstrap reps\n",
    "    reps <- 1000\n",
    "    mrca_boot <- mclapply(1:reps, boot_mrca, subject_i, subject_markers, n_markers, boot_combos)\n",
    "\n",
    "    return(mrca_boot)\n",
    "}"
   ]
  },
  {
   "cell_type": "code",
   "execution_count": 37,
   "id": "adc36453",
   "metadata": {
    "vscode": {
     "languageId": "r"
    }
   },
   "outputs": [
    {
     "name": "stderr",
     "output_type": "stream",
     "text": [
      " \u001b[32m=>----------------------------- \u001b[39m   3% |  ETA:  5h\n",
      "\n",
      " \u001b[32m==>---------------------------- \u001b[39m   5% |  ETA:  5h\n",
      "\n",
      " \u001b[32m==>---------------------------- \u001b[39m   8% |  ETA:  4h\n",
      "\n",
      " \u001b[32m===>--------------------------- \u001b[39m  11% |  ETA:  3h\n",
      "\n",
      " \u001b[32m====>-------------------------- \u001b[39m  14% |  ETA:  3h\n",
      "\n",
      " \u001b[32m=====>------------------------- \u001b[39m  16% |  ETA:  3h\n",
      "\n",
      " \u001b[32m======>------------------------ \u001b[39m  19% |  ETA:  2h\n",
      "\n",
      " \u001b[32m======>------------------------ \u001b[39m  22% |  ETA:  2h\n",
      "\n",
      " \u001b[32m=======>----------------------- \u001b[39m  24% |  ETA:  2h\n",
      "\n",
      " \u001b[32m========>---------------------- \u001b[39m  27% |  ETA:  2h\n",
      "\n",
      " \u001b[32m=========>--------------------- \u001b[39m  30% |  ETA:  2h\n",
      "\n",
      " \u001b[32m==========>-------------------- \u001b[39m  32% |  ETA:  2h\n",
      "\n",
      " \u001b[32m===========>------------------- \u001b[39m  35% |  ETA:  2h\n",
      "\n",
      " \u001b[32m===========>------------------- \u001b[39m  38% |  ETA:  2h\n",
      "\n",
      " \u001b[32m============>------------------ \u001b[39m  41% |  ETA:  2h\n",
      "\n",
      " \u001b[32m=============>----------------- \u001b[39m  43% |  ETA:  1h\n",
      "\n",
      " \u001b[32m==============>---------------- \u001b[39m  46% |  ETA:  1h\n",
      "\n",
      " \u001b[32m===============>--------------- \u001b[39m  49% |  ETA:  1h\n",
      "\n",
      " \u001b[32m===============>--------------- \u001b[39m  51% |  ETA:  1h\n",
      "\n",
      " \u001b[32m================>-------------- \u001b[39m  54% |  ETA:  1h\n",
      "\n",
      " \u001b[32m=================>------------- \u001b[39m  57% |  ETA:  1h\n",
      "\n",
      " \u001b[32m==================>------------ \u001b[39m  59% |  ETA:  1h\n",
      "\n",
      " \u001b[32m===================>----------- \u001b[39m  62% |  ETA:  1h\n",
      "\n",
      " \u001b[32m===================>----------- \u001b[39m  65% |  ETA:  1h\n",
      "\n",
      " \u001b[32m====================>---------- \u001b[39m  68% |  ETA:  1h\n",
      "\n",
      " \u001b[32m=====================>--------- \u001b[39m  70% |  ETA:  1h\n",
      "\n",
      " \u001b[32m======================>-------- \u001b[39m  73% |  ETA: 47m\n",
      "\n",
      " \u001b[32m=======================>------- \u001b[39m  76% |  ETA: 47m\n",
      "\n",
      " \u001b[32m========================>------ \u001b[39m  78% |  ETA: 43m\n",
      "\n",
      " \u001b[32m========================>------ \u001b[39m  81% |  ETA: 37m\n",
      "\n",
      " \u001b[32m=========================>----- \u001b[39m  84% |  ETA: 31m\n",
      "\n",
      " \u001b[32m==========================>---- \u001b[39m  86% |  ETA: 26m\n",
      "\n",
      " \u001b[32m===========================>--- \u001b[39m  89% |  ETA: 21m\n",
      "\n",
      " \u001b[32m============================>-- \u001b[39m  92% |  ETA: 15m\n",
      "\n",
      " \u001b[32m============================>-- \u001b[39m  95% |  ETA: 10m\n",
      "\n",
      " \u001b[32m=============================>- \u001b[39m  97% |  ETA:  5m\n",
      "\n"
     ]
    }
   ],
   "source": [
    "subjects <- unique(crc_markerlengths$subject)\n",
    "l <- map(subjects, \\(subject) bootstrap_mrca(subject, crc_markerlengths, l1_tbl), .progress=T)"
   ]
  },
  {
   "cell_type": "code",
   "execution_count": 38,
   "id": "aff6092e",
   "metadata": {
    "vscode": {
     "languageId": "r"
    }
   },
   "outputs": [],
   "source": [
    "saveRDS(l, \"../results/bootstrapped_crc_trees.rds\")"
   ]
  }
 ],
 "metadata": {
  "kernelspec": {
   "display_name": "R",
   "language": "R",
   "name": "ir"
  },
  "language_info": {
   "codemirror_mode": "r",
   "file_extension": ".r",
   "mimetype": "text/x-r-source",
   "name": "R",
   "pygments_lexer": "r",
   "version": "4.1.2"
  }
 },
 "nbformat": 4,
 "nbformat_minor": 5
}
